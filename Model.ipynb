{
 "cells": [
  {
   "cell_type": "code",
   "execution_count": 55,
   "metadata": {},
   "outputs": [
    {
     "name": "stderr",
     "output_type": "stream",
     "text": [
      "WARNING: You are using pip version 20.2.3; however, version 22.3.1 is available.\n",
      "You should consider upgrading via the 'c:\\users\\egorm\\appdata\\local\\programs\\python\\python39\\python.exe -m pip install --upgrade pip' command.\n"
     ]
    },
    {
     "name": "stdout",
     "output_type": "stream",
     "text": [
      "Collecting xgboost\n",
      "  Downloading xgboost-1.7.2-py3-none-win_amd64.whl (89.1 MB)\n",
      "Requirement already satisfied: scipy in c:\\users\\egorm\\appdata\\local\\programs\\python\\python39\\lib\\site-packages (from xgboost) (1.8.1)\n",
      "Requirement already satisfied: numpy in c:\\users\\egorm\\appdata\\local\\programs\\python\\python39\\lib\\site-packages (from xgboost) (1.21.2)\n",
      "Installing collected packages: xgboost\n",
      "Successfully installed xgboost-1.7.2\n"
     ]
    }
   ],
   "source": [
    "# !pip install text-hammer\n",
    "# !pip install spacy -q\n",
    "# !python -m spacy download en_core_web_sm -q\n",
    "# !pip install xgboost"
   ]
  },
  {
   "cell_type": "code",
   "execution_count": 2,
   "metadata": {},
   "outputs": [],
   "source": [
    "import pandas as pd\n",
    "import numpy as np\n",
    "import matplotlib.pyplot as plt\n",
    "import seaborn as sns"
   ]
  },
  {
   "cell_type": "code",
   "execution_count": 3,
   "metadata": {},
   "outputs": [
    {
     "name": "stdout",
     "output_type": "stream",
     "text": [
      "No cleaned df\n"
     ]
    }
   ],
   "source": [
    "flag = False\n",
    "test_df = pd.read_csv('test_data.csv')\n",
    "train_df = pd.read_csv('train_data.csv')\n",
    "solutions_df = pd.read_csv('train_solution.csv')\n",
    "\n",
    "#Если код уже запускался, то не будет необходимость каждый раз заново проводить процедуру text lemmatization\n",
    "try:\n",
    "    clean_train_df = pd.read_csv('clean_train_df.csv')\n",
    "except:\n",
    "    flag = True\n",
    "    print('No cleaned df')\n"
   ]
  },
  {
   "cell_type": "code",
   "execution_count": 4,
   "metadata": {},
   "outputs": [],
   "source": [
    "train_df = train_df.merge(solutions_df, right_on='id', left_on='id')"
   ]
  },
  {
   "cell_type": "code",
   "execution_count": 5,
   "metadata": {},
   "outputs": [
    {
     "data": {
      "text/html": [
       "<div>\n",
       "<style scoped>\n",
       "    .dataframe tbody tr th:only-of-type {\n",
       "        vertical-align: middle;\n",
       "    }\n",
       "\n",
       "    .dataframe tbody tr th {\n",
       "        vertical-align: top;\n",
       "    }\n",
       "\n",
       "    .dataframe thead th {\n",
       "        text-align: right;\n",
       "    }\n",
       "</style>\n",
       "<table border=\"1\" class=\"dataframe\">\n",
       "  <thead>\n",
       "    <tr style=\"text-align: right;\">\n",
       "      <th></th>\n",
       "      <th>id</th>\n",
       "      <th>message</th>\n",
       "      <th>category</th>\n",
       "    </tr>\n",
       "  </thead>\n",
       "  <tbody>\n",
       "    <tr>\n",
       "      <th>0</th>\n",
       "      <td>271828</td>\n",
       "      <td>Over $616 million in Bitcoin was electrocated ...</td>\n",
       "      <td>1</td>\n",
       "    </tr>\n",
       "    <tr>\n",
       "      <th>1</th>\n",
       "      <td>271829</td>\n",
       "      <td>Quiz: Thursday or friday?</td>\n",
       "      <td>0</td>\n",
       "    </tr>\n",
       "    <tr>\n",
       "      <th>2</th>\n",
       "      <td>271830</td>\n",
       "      <td>The Australian Revenue Authority will start co...</td>\n",
       "      <td>1</td>\n",
       "    </tr>\n",
       "    <tr>\n",
       "      <th>3</th>\n",
       "      <td>271831</td>\n",
       "      <td>Let's continue😉. I present to you my new review</td>\n",
       "      <td>2</td>\n",
       "    </tr>\n",
       "    <tr>\n",
       "      <th>4</th>\n",
       "      <td>271832</td>\n",
       "      <td>Here comes your future palette.</td>\n",
       "      <td>2</td>\n",
       "    </tr>\n",
       "    <tr>\n",
       "      <th>...</th>\n",
       "      <td>...</td>\n",
       "      <td>...</td>\n",
       "      <td>...</td>\n",
       "    </tr>\n",
       "    <tr>\n",
       "      <th>3839</th>\n",
       "      <td>275667</td>\n",
       "      <td>On the air, the shooter's kms and the man who ...</td>\n",
       "      <td>2</td>\n",
       "    </tr>\n",
       "    <tr>\n",
       "      <th>3840</th>\n",
       "      <td>275668</td>\n",
       "      <td>This shit that's off-the-books.</td>\n",
       "      <td>0</td>\n",
       "    </tr>\n",
       "    <tr>\n",
       "      <th>3841</th>\n",
       "      <td>275669</td>\n",
       "      <td>Time to go to the sky, tabor.</td>\n",
       "      <td>2</td>\n",
       "    </tr>\n",
       "    <tr>\n",
       "      <th>3842</th>\n",
       "      <td>275670</td>\n",
       "      <td>uraaaaaaaa</td>\n",
       "      <td>0</td>\n",
       "    </tr>\n",
       "    <tr>\n",
       "      <th>3843</th>\n",
       "      <td>275671</td>\n",
       "      <td>Albert I only drink VODKA</td>\n",
       "      <td>0</td>\n",
       "    </tr>\n",
       "  </tbody>\n",
       "</table>\n",
       "<p>3844 rows × 3 columns</p>\n",
       "</div>"
      ],
      "text/plain": [
       "          id                                            message  category\n",
       "0     271828  Over $616 million in Bitcoin was electrocated ...         1\n",
       "1     271829                          Quiz: Thursday or friday?         0\n",
       "2     271830  The Australian Revenue Authority will start co...         1\n",
       "3     271831   Let's continue😉. I present to you my new review          2\n",
       "4     271832                    Here comes your future palette.         2\n",
       "...      ...                                                ...       ...\n",
       "3839  275667  On the air, the shooter's kms and the man who ...         2\n",
       "3840  275668                    This shit that's off-the-books.         0\n",
       "3841  275669                      Time to go to the sky, tabor.         2\n",
       "3842  275670                                         uraaaaaaaa         0\n",
       "3843  275671                          Albert I only drink VODKA         0\n",
       "\n",
       "[3844 rows x 3 columns]"
      ]
     },
     "execution_count": 5,
     "metadata": {},
     "output_type": "execute_result"
    }
   ],
   "source": [
    "train_df"
   ]
  },
  {
   "cell_type": "code",
   "execution_count": 6,
   "metadata": {},
   "outputs": [
    {
     "name": "stdout",
     "output_type": "stream",
     "text": [
      "<class 'pandas.core.frame.DataFrame'>\n",
      "Int64Index: 3844 entries, 0 to 3843\n",
      "Data columns (total 3 columns):\n",
      " #   Column    Non-Null Count  Dtype \n",
      "---  ------    --------------  ----- \n",
      " 0   id        3844 non-null   int64 \n",
      " 1   message   3844 non-null   object\n",
      " 2   category  3844 non-null   int64 \n",
      "dtypes: int64(2), object(1)\n",
      "memory usage: 120.1+ KB\n"
     ]
    }
   ],
   "source": [
    "train_df.info()"
   ]
  },
  {
   "cell_type": "markdown",
   "metadata": {},
   "source": [
    "Пропущенных значений нету"
   ]
  },
  {
   "cell_type": "code",
   "execution_count": 7,
   "metadata": {},
   "outputs": [],
   "source": [
    "train_df['amount_sym'] = train_df['message'].str.len()\n",
    "train_df['amount_words'] = train_df['message'].str.split(' ').str.len()\n",
    "train_df['amount_numbers'] = train_df['message'].str.count('\\d')"
   ]
  },
  {
   "cell_type": "markdown",
   "metadata": {},
   "source": [
    "Добавим три столбца:\n",
    "1) Количество символов в сообщении\n",
    "\n",
    "2) Количество слов в сообщении\n",
    "\n",
    "3) Количество цифр в сообщении"
   ]
  },
  {
   "cell_type": "code",
   "execution_count": 8,
   "metadata": {},
   "outputs": [
    {
     "data": {
      "text/html": [
       "<div>\n",
       "<style scoped>\n",
       "    .dataframe tbody tr th:only-of-type {\n",
       "        vertical-align: middle;\n",
       "    }\n",
       "\n",
       "    .dataframe tbody tr th {\n",
       "        vertical-align: top;\n",
       "    }\n",
       "\n",
       "    .dataframe thead th {\n",
       "        text-align: right;\n",
       "    }\n",
       "</style>\n",
       "<table border=\"1\" class=\"dataframe\">\n",
       "  <thead>\n",
       "    <tr style=\"text-align: right;\">\n",
       "      <th></th>\n",
       "      <th>id</th>\n",
       "      <th>message</th>\n",
       "      <th>category</th>\n",
       "      <th>amount_sym</th>\n",
       "      <th>amount_words</th>\n",
       "      <th>amount_numbers</th>\n",
       "    </tr>\n",
       "  </thead>\n",
       "  <tbody>\n",
       "    <tr>\n",
       "      <th>0</th>\n",
       "      <td>271828</td>\n",
       "      <td>Over $616 million in Bitcoin was electrocated ...</td>\n",
       "      <td>1</td>\n",
       "      <td>1454</td>\n",
       "      <td>242</td>\n",
       "      <td>28</td>\n",
       "    </tr>\n",
       "    <tr>\n",
       "      <th>1</th>\n",
       "      <td>271829</td>\n",
       "      <td>Quiz: Thursday or friday?</td>\n",
       "      <td>0</td>\n",
       "      <td>25</td>\n",
       "      <td>4</td>\n",
       "      <td>0</td>\n",
       "    </tr>\n",
       "    <tr>\n",
       "      <th>2</th>\n",
       "      <td>271830</td>\n",
       "      <td>The Australian Revenue Authority will start co...</td>\n",
       "      <td>1</td>\n",
       "      <td>1080</td>\n",
       "      <td>169</td>\n",
       "      <td>10</td>\n",
       "    </tr>\n",
       "    <tr>\n",
       "      <th>3</th>\n",
       "      <td>271831</td>\n",
       "      <td>Let's continue😉. I present to you my new review</td>\n",
       "      <td>2</td>\n",
       "      <td>48</td>\n",
       "      <td>10</td>\n",
       "      <td>0</td>\n",
       "    </tr>\n",
       "    <tr>\n",
       "      <th>4</th>\n",
       "      <td>271832</td>\n",
       "      <td>Here comes your future palette.</td>\n",
       "      <td>2</td>\n",
       "      <td>31</td>\n",
       "      <td>5</td>\n",
       "      <td>0</td>\n",
       "    </tr>\n",
       "    <tr>\n",
       "      <th>...</th>\n",
       "      <td>...</td>\n",
       "      <td>...</td>\n",
       "      <td>...</td>\n",
       "      <td>...</td>\n",
       "      <td>...</td>\n",
       "      <td>...</td>\n",
       "    </tr>\n",
       "    <tr>\n",
       "      <th>3839</th>\n",
       "      <td>275667</td>\n",
       "      <td>On the air, the shooter's kms and the man who ...</td>\n",
       "      <td>2</td>\n",
       "      <td>1438</td>\n",
       "      <td>281</td>\n",
       "      <td>0</td>\n",
       "    </tr>\n",
       "    <tr>\n",
       "      <th>3840</th>\n",
       "      <td>275668</td>\n",
       "      <td>This shit that's off-the-books.</td>\n",
       "      <td>0</td>\n",
       "      <td>31</td>\n",
       "      <td>4</td>\n",
       "      <td>0</td>\n",
       "    </tr>\n",
       "    <tr>\n",
       "      <th>3841</th>\n",
       "      <td>275669</td>\n",
       "      <td>Time to go to the sky, tabor.</td>\n",
       "      <td>2</td>\n",
       "      <td>29</td>\n",
       "      <td>7</td>\n",
       "      <td>0</td>\n",
       "    </tr>\n",
       "    <tr>\n",
       "      <th>3842</th>\n",
       "      <td>275670</td>\n",
       "      <td>uraaaaaaaa</td>\n",
       "      <td>0</td>\n",
       "      <td>10</td>\n",
       "      <td>1</td>\n",
       "      <td>0</td>\n",
       "    </tr>\n",
       "    <tr>\n",
       "      <th>3843</th>\n",
       "      <td>275671</td>\n",
       "      <td>Albert I only drink VODKA</td>\n",
       "      <td>0</td>\n",
       "      <td>25</td>\n",
       "      <td>5</td>\n",
       "      <td>0</td>\n",
       "    </tr>\n",
       "  </tbody>\n",
       "</table>\n",
       "<p>3844 rows × 6 columns</p>\n",
       "</div>"
      ],
      "text/plain": [
       "          id                                            message  category  \\\n",
       "0     271828  Over $616 million in Bitcoin was electrocated ...         1   \n",
       "1     271829                          Quiz: Thursday or friday?         0   \n",
       "2     271830  The Australian Revenue Authority will start co...         1   \n",
       "3     271831   Let's continue😉. I present to you my new review          2   \n",
       "4     271832                    Here comes your future palette.         2   \n",
       "...      ...                                                ...       ...   \n",
       "3839  275667  On the air, the shooter's kms and the man who ...         2   \n",
       "3840  275668                    This shit that's off-the-books.         0   \n",
       "3841  275669                      Time to go to the sky, tabor.         2   \n",
       "3842  275670                                         uraaaaaaaa         0   \n",
       "3843  275671                          Albert I only drink VODKA         0   \n",
       "\n",
       "      amount_sym  amount_words  amount_numbers  \n",
       "0           1454           242              28  \n",
       "1             25             4               0  \n",
       "2           1080           169              10  \n",
       "3             48            10               0  \n",
       "4             31             5               0  \n",
       "...          ...           ...             ...  \n",
       "3839        1438           281               0  \n",
       "3840          31             4               0  \n",
       "3841          29             7               0  \n",
       "3842          10             1               0  \n",
       "3843          25             5               0  \n",
       "\n",
       "[3844 rows x 6 columns]"
      ]
     },
     "execution_count": 8,
     "metadata": {},
     "output_type": "execute_result"
    }
   ],
   "source": [
    "train_df"
   ]
  },
  {
   "cell_type": "code",
   "execution_count": 9,
   "metadata": {},
   "outputs": [
    {
     "data": {
      "text/html": [
       "<div>\n",
       "<style scoped>\n",
       "    .dataframe tbody tr th:only-of-type {\n",
       "        vertical-align: middle;\n",
       "    }\n",
       "\n",
       "    .dataframe tbody tr th {\n",
       "        vertical-align: top;\n",
       "    }\n",
       "\n",
       "    .dataframe thead th {\n",
       "        text-align: right;\n",
       "    }\n",
       "</style>\n",
       "<table border=\"1\" class=\"dataframe\">\n",
       "  <thead>\n",
       "    <tr style=\"text-align: right;\">\n",
       "      <th></th>\n",
       "      <th>id</th>\n",
       "      <th>category</th>\n",
       "      <th>amount_sym</th>\n",
       "      <th>amount_words</th>\n",
       "      <th>amount_numbers</th>\n",
       "    </tr>\n",
       "  </thead>\n",
       "  <tbody>\n",
       "    <tr>\n",
       "      <th>count</th>\n",
       "      <td>3844.000000</td>\n",
       "      <td>3844.000000</td>\n",
       "      <td>3844.000000</td>\n",
       "      <td>3844.000000</td>\n",
       "      <td>3844.000000</td>\n",
       "    </tr>\n",
       "    <tr>\n",
       "      <th>mean</th>\n",
       "      <td>273749.500000</td>\n",
       "      <td>0.945109</td>\n",
       "      <td>383.022373</td>\n",
       "      <td>66.932882</td>\n",
       "      <td>3.695890</td>\n",
       "    </tr>\n",
       "    <tr>\n",
       "      <th>std</th>\n",
       "      <td>1109.811546</td>\n",
       "      <td>0.827799</td>\n",
       "      <td>534.430787</td>\n",
       "      <td>92.650663</td>\n",
       "      <td>8.950198</td>\n",
       "    </tr>\n",
       "    <tr>\n",
       "      <th>min</th>\n",
       "      <td>271828.000000</td>\n",
       "      <td>0.000000</td>\n",
       "      <td>3.000000</td>\n",
       "      <td>1.000000</td>\n",
       "      <td>0.000000</td>\n",
       "    </tr>\n",
       "    <tr>\n",
       "      <th>25%</th>\n",
       "      <td>272788.750000</td>\n",
       "      <td>0.000000</td>\n",
       "      <td>33.000000</td>\n",
       "      <td>6.000000</td>\n",
       "      <td>0.000000</td>\n",
       "    </tr>\n",
       "    <tr>\n",
       "      <th>50%</th>\n",
       "      <td>273749.500000</td>\n",
       "      <td>1.000000</td>\n",
       "      <td>109.000000</td>\n",
       "      <td>20.000000</td>\n",
       "      <td>0.000000</td>\n",
       "    </tr>\n",
       "    <tr>\n",
       "      <th>75%</th>\n",
       "      <td>274710.250000</td>\n",
       "      <td>2.000000</td>\n",
       "      <td>527.500000</td>\n",
       "      <td>94.000000</td>\n",
       "      <td>4.000000</td>\n",
       "    </tr>\n",
       "    <tr>\n",
       "      <th>max</th>\n",
       "      <td>275671.000000</td>\n",
       "      <td>2.000000</td>\n",
       "      <td>3273.000000</td>\n",
       "      <td>606.000000</td>\n",
       "      <td>126.000000</td>\n",
       "    </tr>\n",
       "  </tbody>\n",
       "</table>\n",
       "</div>"
      ],
      "text/plain": [
       "                  id     category   amount_sym  amount_words  amount_numbers\n",
       "count    3844.000000  3844.000000  3844.000000   3844.000000     3844.000000\n",
       "mean   273749.500000     0.945109   383.022373     66.932882        3.695890\n",
       "std      1109.811546     0.827799   534.430787     92.650663        8.950198\n",
       "min    271828.000000     0.000000     3.000000      1.000000        0.000000\n",
       "25%    272788.750000     0.000000    33.000000      6.000000        0.000000\n",
       "50%    273749.500000     1.000000   109.000000     20.000000        0.000000\n",
       "75%    274710.250000     2.000000   527.500000     94.000000        4.000000\n",
       "max    275671.000000     2.000000  3273.000000    606.000000      126.000000"
      ]
     },
     "execution_count": 9,
     "metadata": {},
     "output_type": "execute_result"
    }
   ],
   "source": [
    "train_df.describe()"
   ]
  },
  {
   "cell_type": "code",
   "execution_count": 10,
   "metadata": {},
   "outputs": [
    {
     "data": {
      "text/plain": [
       "<AxesSubplot:>"
      ]
     },
     "execution_count": 10,
     "metadata": {},
     "output_type": "execute_result"
    },
    {
     "data": {
      "image/png": "[encoded data removed]",
      "text/plain": [
       "<Figure size 432x288 with 1 Axes>"
      ]
     },
     "metadata": {
      "needs_background": "light"
     },
     "output_type": "display_data"
    }
   ],
   "source": [
    "train_df['category'].value_counts().plot.bar(x='category', rot=0)"
   ]
  },
  {
   "cell_type": "markdown",
   "metadata": {},
   "source": [
    "В целом у нас тут почти идельное распределение по типам чатов поэтому в будущем не придётся применять различные модели для балансировки."
   ]
  },
  {
   "cell_type": "markdown",
   "metadata": {},
   "source": [
    "# Text Pre-Processing"
   ]
  },
  {
   "cell_type": "code",
   "execution_count": 11,
   "metadata": {},
   "outputs": [],
   "source": [
    "import text_hammer as th"
   ]
  },
  {
   "cell_type": "markdown",
   "metadata": {},
   "source": [
    "Воспользуемся готовой библиотекой для чистки сообщений"
   ]
  },
  {
   "cell_type": "code",
   "execution_count": 12,
   "metadata": {},
   "outputs": [],
   "source": [
    "def text_preprocessing(df, column):\n",
    "    df[column] = df[column].progress_apply(lambda x:str(x).lower())\n",
    "    df[column] = df[column].progress_apply(lambda x: th.cont_exp(x))\n",
    "    df[column] = df[column].progress_apply(lambda x: th.remove_emails(x))\n",
    "    df[column] = df[column].progress_apply(lambda x: th.remove_html_tags(x))\n",
    "    df[column] = df[column].progress_apply(lambda x: th.remove_stopwords(x))\n",
    "    df[column] = df[column].progress_apply(lambda x: th.remove_special_chars(x))\n",
    "    df[column] = df[column].progress_apply(lambda x: th.remove_accented_chars(x))\n",
    "    df[column] = df[column].progress_apply(lambda x: th.make_base(x))\n",
    "    \n",
    "    return df"
   ]
  },
  {
   "cell_type": "code",
   "execution_count": 13,
   "metadata": {},
   "outputs": [
    {
     "data": {
      "application/vnd.jupyter.widget-view+json": {
       "model_id": "7f11b0f698814729ab1b4afa7713b16f",
       "version_major": 2,
       "version_minor": 0
      },
      "text/plain": [
       "  0%|          | 0/3844 [00:00<?, ?it/s]"
      ]
     },
     "metadata": {},
     "output_type": "display_data"
    },
    {
     "data": {
      "application/vnd.jupyter.widget-view+json": {
       "model_id": "24bdbef616fe4f779b7d33dd454d2ca5",
       "version_major": 2,
       "version_minor": 0
      },
      "text/plain": [
       "  0%|          | 0/3844 [00:00<?, ?it/s]"
      ]
     },
     "metadata": {},
     "output_type": "display_data"
    },
    {
     "data": {
      "application/vnd.jupyter.widget-view+json": {
       "model_id": "08e2dacfde4941f282e6201f66e60aad",
       "version_major": 2,
       "version_minor": 0
      },
      "text/plain": [
       "  0%|          | 0/3844 [00:00<?, ?it/s]"
      ]
     },
     "metadata": {},
     "output_type": "display_data"
    },
    {
     "data": {
      "application/vnd.jupyter.widget-view+json": {
       "model_id": "bea03811b270418d8b1beb235584c791",
       "version_major": 2,
       "version_minor": 0
      },
      "text/plain": [
       "  0%|          | 0/3844 [00:00<?, ?it/s]"
      ]
     },
     "metadata": {},
     "output_type": "display_data"
    },
    {
     "data": {
      "application/vnd.jupyter.widget-view+json": {
       "model_id": "0cdc056507f2454290452e10ffc71b28",
       "version_major": 2,
       "version_minor": 0
      },
      "text/plain": [
       "  0%|          | 0/3844 [00:00<?, ?it/s]"
      ]
     },
     "metadata": {},
     "output_type": "display_data"
    },
    {
     "data": {
      "application/vnd.jupyter.widget-view+json": {
       "model_id": "8dd20e35483e4a71a6ca4a737c137f3e",
       "version_major": 2,
       "version_minor": 0
      },
      "text/plain": [
       "  0%|          | 0/3844 [00:00<?, ?it/s]"
      ]
     },
     "metadata": {},
     "output_type": "display_data"
    },
    {
     "data": {
      "application/vnd.jupyter.widget-view+json": {
       "model_id": "e99f4977ca2942aaa17751886ad9fa89",
       "version_major": 2,
       "version_minor": 0
      },
      "text/plain": [
       "  0%|          | 0/3844 [00:00<?, ?it/s]"
      ]
     },
     "metadata": {},
     "output_type": "display_data"
    },
    {
     "data": {
      "application/vnd.jupyter.widget-view+json": {
       "model_id": "f7fa25a2b0404864a7f9d8e3ce916a26",
       "version_major": 2,
       "version_minor": 0
      },
      "text/plain": [
       "  0%|          | 0/3844 [00:00<?, ?it/s]"
      ]
     },
     "metadata": {},
     "output_type": "display_data"
    }
   ],
   "source": [
    "if flag:\n",
    "    clean_train_df = text_preprocessing(train_df, \"message\")"
   ]
  },
  {
   "cell_type": "code",
   "execution_count": 14,
   "metadata": {},
   "outputs": [
    {
     "data": {
      "text/html": [
       "<div>\n",
       "<style scoped>\n",
       "    .dataframe tbody tr th:only-of-type {\n",
       "        vertical-align: middle;\n",
       "    }\n",
       "\n",
       "    .dataframe tbody tr th {\n",
       "        vertical-align: top;\n",
       "    }\n",
       "\n",
       "    .dataframe thead th {\n",
       "        text-align: right;\n",
       "    }\n",
       "</style>\n",
       "<table border=\"1\" class=\"dataframe\">\n",
       "  <thead>\n",
       "    <tr style=\"text-align: right;\">\n",
       "      <th></th>\n",
       "      <th>id</th>\n",
       "      <th>message</th>\n",
       "      <th>category</th>\n",
       "      <th>amount_sym</th>\n",
       "      <th>amount_words</th>\n",
       "      <th>amount_numbers</th>\n",
       "    </tr>\n",
       "  </thead>\n",
       "  <tbody>\n",
       "    <tr>\n",
       "      <th>0</th>\n",
       "      <td>271828</td>\n",
       "      <td>616 million bitcoin electrocate september wrap...</td>\n",
       "      <td>1</td>\n",
       "      <td>1454</td>\n",
       "      <td>242</td>\n",
       "      <td>28</td>\n",
       "    </tr>\n",
       "    <tr>\n",
       "      <th>1</th>\n",
       "      <td>271829</td>\n",
       "      <td>quiz thursday friday</td>\n",
       "      <td>0</td>\n",
       "      <td>25</td>\n",
       "      <td>4</td>\n",
       "      <td>0</td>\n",
       "    </tr>\n",
       "    <tr>\n",
       "      <th>2</th>\n",
       "      <td>271830</td>\n",
       "      <td>australian revenue authority start collect tax...</td>\n",
       "      <td>1</td>\n",
       "      <td>1080</td>\n",
       "      <td>169</td>\n",
       "      <td>10</td>\n",
       "    </tr>\n",
       "    <tr>\n",
       "      <th>3</th>\n",
       "      <td>271831</td>\n",
       "      <td>let continue present new review</td>\n",
       "      <td>2</td>\n",
       "      <td>48</td>\n",
       "      <td>10</td>\n",
       "      <td>0</td>\n",
       "    </tr>\n",
       "    <tr>\n",
       "      <th>4</th>\n",
       "      <td>271832</td>\n",
       "      <td>come future palette</td>\n",
       "      <td>2</td>\n",
       "      <td>31</td>\n",
       "      <td>5</td>\n",
       "      <td>0</td>\n",
       "    </tr>\n",
       "    <tr>\n",
       "      <th>...</th>\n",
       "      <td>...</td>\n",
       "      <td>...</td>\n",
       "      <td>...</td>\n",
       "      <td>...</td>\n",
       "      <td>...</td>\n",
       "      <td>...</td>\n",
       "    </tr>\n",
       "    <tr>\n",
       "      <th>3839</th>\n",
       "      <td>275667</td>\n",
       "      <td>air shooter kms man ask favourite subpoena pok...</td>\n",
       "      <td>2</td>\n",
       "      <td>1438</td>\n",
       "      <td>281</td>\n",
       "      <td>0</td>\n",
       "    </tr>\n",
       "    <tr>\n",
       "      <th>3840</th>\n",
       "      <td>275668</td>\n",
       "      <td>shit offthebook</td>\n",
       "      <td>0</td>\n",
       "      <td>31</td>\n",
       "      <td>4</td>\n",
       "      <td>0</td>\n",
       "    </tr>\n",
       "    <tr>\n",
       "      <th>3841</th>\n",
       "      <td>275669</td>\n",
       "      <td>time sky tabor</td>\n",
       "      <td>2</td>\n",
       "      <td>29</td>\n",
       "      <td>7</td>\n",
       "      <td>0</td>\n",
       "    </tr>\n",
       "    <tr>\n",
       "      <th>3842</th>\n",
       "      <td>275670</td>\n",
       "      <td>uraaaaaaaa</td>\n",
       "      <td>0</td>\n",
       "      <td>10</td>\n",
       "      <td>1</td>\n",
       "      <td>0</td>\n",
       "    </tr>\n",
       "    <tr>\n",
       "      <th>3843</th>\n",
       "      <td>275671</td>\n",
       "      <td>albert drink vodka</td>\n",
       "      <td>0</td>\n",
       "      <td>25</td>\n",
       "      <td>5</td>\n",
       "      <td>0</td>\n",
       "    </tr>\n",
       "  </tbody>\n",
       "</table>\n",
       "<p>3844 rows × 6 columns</p>\n",
       "</div>"
      ],
      "text/plain": [
       "          id                                            message  category  \\\n",
       "0     271828  616 million bitcoin electrocate september wrap...         1   \n",
       "1     271829                               quiz thursday friday         0   \n",
       "2     271830  australian revenue authority start collect tax...         1   \n",
       "3     271831                    let continue present new review         2   \n",
       "4     271832                                come future palette         2   \n",
       "...      ...                                                ...       ...   \n",
       "3839  275667  air shooter kms man ask favourite subpoena pok...         2   \n",
       "3840  275668                                    shit offthebook         0   \n",
       "3841  275669                                     time sky tabor         2   \n",
       "3842  275670                                         uraaaaaaaa         0   \n",
       "3843  275671                                 albert drink vodka         0   \n",
       "\n",
       "      amount_sym  amount_words  amount_numbers  \n",
       "0           1454           242              28  \n",
       "1             25             4               0  \n",
       "2           1080           169              10  \n",
       "3             48            10               0  \n",
       "4             31             5               0  \n",
       "...          ...           ...             ...  \n",
       "3839        1438           281               0  \n",
       "3840          31             4               0  \n",
       "3841          29             7               0  \n",
       "3842          10             1               0  \n",
       "3843          25             5               0  \n",
       "\n",
       "[3844 rows x 6 columns]"
      ]
     },
     "execution_count": 14,
     "metadata": {},
     "output_type": "execute_result"
    }
   ],
   "source": [
    "clean_train_df.to_csv('clean_train_df') # нужно чтобы каждый раз не проделывать одну и туже процедуру\n",
    "clean_train_df"
   ]
  },
  {
   "cell_type": "markdown",
   "metadata": {},
   "source": [
    "# Train Test split "
   ]
  },
  {
   "cell_type": "code",
   "execution_count": 15,
   "metadata": {},
   "outputs": [],
   "source": [
    "from sklearn.model_selection import train_test_split"
   ]
  },
  {
   "cell_type": "code",
   "execution_count": 16,
   "metadata": {},
   "outputs": [
    {
     "name": "stdout",
     "output_type": "stream",
     "text": [
      "(3075,) (769,) (3075,) (769,)\n"
     ]
    }
   ],
   "source": [
    "X_train, X_test, y_train, y_test = train_test_split(clean_train_df.message, \n",
    "                                                  clean_train_df.category, \n",
    "                                                  test_size = 0.2, \n",
    "                                                  stratify = clean_train_df.category,\n",
    "                                                  random_state = 10122022)\n",
    "\n",
    "print(X_train.shape, X_test.shape, y_train.shape, y_test.shape)"
   ]
  },
  {
   "cell_type": "markdown",
   "metadata": {},
   "source": [
    "# Convert sentences to word vectors"
   ]
  },
  {
   "cell_type": "code",
   "execution_count": 17,
   "metadata": {},
   "outputs": [],
   "source": [
    "from keras.preprocessing.text import Tokenizer"
   ]
  },
  {
   "cell_type": "markdown",
   "metadata": {},
   "source": [
    "Для начала посмотрим сколько у нас существует уникальных слов в датасете"
   ]
  },
  {
   "cell_type": "code",
   "execution_count": 29,
   "metadata": {},
   "outputs": [
    {
     "name": "stdout",
     "output_type": "stream",
     "text": [
      "Количество уникальных значений в сообщениях:  14907\n",
      "Wall time: 70.4 ms\n"
     ]
    }
   ],
   "source": [
    "%%time\n",
    "uniq_words = {}\n",
    "\n",
    "for message in clean_train_df['message'].values:\n",
    "    uniq_words.update(dict.fromkeys(set(message.split())))\n",
    "\n",
    "print(\"Количество уникальных значений в сообщениях: \", len(uniq_words))"
   ]
  },
  {
   "cell_type": "markdown",
   "metadata": {},
   "source": [
    "В нашем случае вышло примерно 15000 слов(и цифр). В целом, то что тут также есть цифры не критично так как наша цель найти максимальное значение для того, что позже воспользоваться им при использование Tokenizer. И будет не критично если у нас будет больше значений так как все лишние буду занулены.\n",
    "В целом конечно можно посмотреть как часто встречается каждое слово в частности, но в нашем случае это излишне так как никак не может повлиять на конечную точность модели с учётом всех вводных задания"
   ]
  },
  {
   "cell_type": "code",
   "execution_count": 31,
   "metadata": {},
   "outputs": [
    {
     "name": "stdout",
     "output_type": "stream",
     "text": [
      "14902\n",
      "Wall time: 249 ms\n"
     ]
    }
   ],
   "source": [
    "%%time\n",
    "num_words = len(uniq_words)\n",
    "tokenizer = Tokenizer(num_words, lower=True)\n",
    "df_total = pd.concat([X_train, X_test], axis = 0) # Надо объединить тренировачный и тестоввый датасет чтобы учесть все слова. \n",
    "tokenizer.fit_on_texts(df_total)\n",
    "print(len(tokenizer.word_index))"
   ]
  },
  {
   "cell_type": "markdown",
   "metadata": {},
   "source": [
    "# Make all sentences the same length"
   ]
  },
  {
   "cell_type": "code",
   "execution_count": 33,
   "metadata": {},
   "outputs": [],
   "source": [
    "from keras_preprocessing.sequence import pad_sequences"
   ]
  },
  {
   "cell_type": "code",
   "execution_count": 41,
   "metadata": {},
   "outputs": [
    {
     "name": "stdout",
     "output_type": "stream",
     "text": [
      "1909\n",
      "(3075, 1909) (769, 1909)\n"
     ]
    }
   ],
   "source": [
    "max_message_lenght = clean_train_df.message.str.len().max()\n",
    "print(max_message_lenght)\n",
    "\n",
    "X_train_ = tokenizer.texts_to_sequences(X_train)\n",
    "X_train_pad = pad_sequences(X_train_, maxlen = max_message_lenght, padding='post')\n",
    "X_test_ = tokenizer.texts_to_sequences(X_test)\n",
    "X_test_pad = pad_sequences(X_test_, maxlen = max_message_lenght, padding = 'post')\n",
    "print(X_train_pad.shape, X_test_pad.shape)"
   ]
  },
  {
   "cell_type": "code",
   "execution_count": 44,
   "metadata": {},
   "outputs": [
    {
     "data": {
      "text/plain": [
       "(array([[   16,  2204,  3244, ...,     0,     0,     0],\n",
       "        [  370,   151,   536, ...,     0,     0,     0],\n",
       "        [  102,   315,  1597, ...,     0,     0,     0],\n",
       "        ...,\n",
       "        [   33,  1341, 13368, ...,     0,     0,     0],\n",
       "        [   93,   127,  4827, ...,     0,     0,     0],\n",
       "        [   83,     4,   136, ...,     0,     0,     0]]),\n",
       " array([[   35,  3284,   522, ...,     0,     0,     0],\n",
       "        [ 4045,   368,  3412, ...,     0,     0,     0],\n",
       "        [  901, 13371,  2633, ...,     0,     0,     0],\n",
       "        ...,\n",
       "        [  848,   519,   758, ...,     0,     0,     0],\n",
       "        [  265,   380,     0, ...,     0,     0,     0],\n",
       "        [ 3626,   125,    46, ...,     0,     0,     0]]))"
      ]
     },
     "execution_count": 44,
     "metadata": {},
     "output_type": "execute_result"
    }
   ],
   "source": [
    "X_train_pad, X_test_pad"
   ]
  },
  {
   "cell_type": "markdown",
   "metadata": {},
   "source": [
    "# Model"
   ]
  },
  {
   "cell_type": "code",
   "execution_count": 61,
   "metadata": {},
   "outputs": [],
   "source": [
    "from sklearn.linear_model import LogisticRegression\n",
    "from sklearn.metrics import accuracy_score, confusion_matrix, classification_report, f1_score\n",
    "import xgboost as xgb"
   ]
  },
  {
   "cell_type": "markdown",
   "metadata": {},
   "source": [
    "##  LogisticRegression"
   ]
  },
  {
   "cell_type": "code",
   "execution_count": 81,
   "metadata": {},
   "outputs": [],
   "source": [
    "def logreg(X_train_pad, y_train, y_test):\n",
    "    model_logreg = LogisticRegression()\n",
    "    model_logreg.fit(X_train_pad, y_train)\n",
    "    y_pred_logreg = model_logreg.predict(X_test_pad)\n",
    "    acc = np.round(accuracy_score(y_pred_logreg, y_test), 4)\n",
    "    print('accuracy %s' % acc)\n",
    "    print(classification_report(y_test, y_pred_logreg))\n",
    "    \n",
    "    return y_pred_logreg, acc"
   ]
  },
  {
   "cell_type": "code",
   "execution_count": 82,
   "metadata": {},
   "outputs": [
    {
     "name": "stdout",
     "output_type": "stream",
     "text": [
      "accuracy 0.5735\n",
      "              precision    recall  f1-score   support\n",
      "\n",
      "           0       0.63      0.85      0.72       286\n",
      "           1       0.62      0.50      0.55       240\n",
      "           2       0.41      0.33      0.36       243\n",
      "\n",
      "    accuracy                           0.57       769\n",
      "   macro avg       0.55      0.56      0.55       769\n",
      "weighted avg       0.56      0.57      0.56       769\n",
      "\n",
      "Wall time: 1.73 s\n"
     ]
    },
    {
     "name": "stderr",
     "output_type": "stream",
     "text": [
      "c:\\users\\egorm\\appdata\\local\\programs\\python\\python39\\lib\\site-packages\\sklearn\\linear_model\\_logistic.py:444: ConvergenceWarning: lbfgs failed to converge (status=1):\n",
      "STOP: TOTAL NO. of ITERATIONS REACHED LIMIT.\n",
      "\n",
      "Increase the number of iterations (max_iter) or scale the data as shown in:\n",
      "    https://scikit-learn.org/stable/modules/preprocessing.html\n",
      "Please also refer to the documentation for alternative solver options:\n",
      "    https://scikit-learn.org/stable/modules/linear_model.html#logistic-regression\n",
      "  n_iter_i = _check_optimize_result(\n"
     ]
    }
   ],
   "source": [
    "%%time\n",
    "y_pred, acc = logreg(X_train_pad, y_train, y_test)"
   ]
  },
  {
   "cell_type": "markdown",
   "metadata": {},
   "source": [
    "## XGBOOST "
   ]
  },
  {
   "cell_type": "code",
   "execution_count": 75,
   "metadata": {},
   "outputs": [
    {
     "name": "stdout",
     "output_type": "stream",
     "text": [
      "Wall time: 14.9 s\n"
     ]
    },
    {
     "data": {
      "text/html": [
       "<style>#sk-container-id-7 {color: black;background-color: white;}#sk-container-id-7 pre{padding: 0;}#sk-container-id-7 div.sk-toggleable {background-color: white;}#sk-container-id-7 label.sk-toggleable__label {cursor: pointer;display: block;width: 100%;margin-bottom: 0;padding: 0.3em;box-sizing: border-box;text-align: center;}#sk-container-id-7 label.sk-toggleable__label-arrow:before {content: \"▸\";float: left;margin-right: 0.25em;color: #696969;}#sk-container-id-7 label.sk-toggleable__label-arrow:hover:before {color: black;}#sk-container-id-7 div.sk-estimator:hover label.sk-toggleable__label-arrow:before {color: black;}#sk-container-id-7 div.sk-toggleable__content {max-height: 0;max-width: 0;overflow: hidden;text-align: left;background-color: #f0f8ff;}#sk-container-id-7 div.sk-toggleable__content pre {margin: 0.2em;color: black;border-radius: 0.25em;background-color: #f0f8ff;}#sk-container-id-7 input.sk-toggleable__control:checked~div.sk-toggleable__content {max-height: 200px;max-width: 100%;overflow: auto;}#sk-container-id-7 input.sk-toggleable__control:checked~label.sk-toggleable__label-arrow:before {content: \"▾\";}#sk-container-id-7 div.sk-estimator input.sk-toggleable__control:checked~label.sk-toggleable__label {background-color: #d4ebff;}#sk-container-id-7 div.sk-label input.sk-toggleable__control:checked~label.sk-toggleable__label {background-color: #d4ebff;}#sk-container-id-7 input.sk-hidden--visually {border: 0;clip: rect(1px 1px 1px 1px);clip: rect(1px, 1px, 1px, 1px);height: 1px;margin: -1px;overflow: hidden;padding: 0;position: absolute;width: 1px;}#sk-container-id-7 div.sk-estimator {font-family: monospace;background-color: #f0f8ff;border: 1px dotted black;border-radius: 0.25em;box-sizing: border-box;margin-bottom: 0.5em;}#sk-container-id-7 div.sk-estimator:hover {background-color: #d4ebff;}#sk-container-id-7 div.sk-parallel-item::after {content: \"\";width: 100%;border-bottom: 1px solid gray;flex-grow: 1;}#sk-container-id-7 div.sk-label:hover label.sk-toggleable__label {background-color: #d4ebff;}#sk-container-id-7 div.sk-serial::before {content: \"\";position: absolute;border-left: 1px solid gray;box-sizing: border-box;top: 0;bottom: 0;left: 50%;z-index: 0;}#sk-container-id-7 div.sk-serial {display: flex;flex-direction: column;align-items: center;background-color: white;padding-right: 0.2em;padding-left: 0.2em;position: relative;}#sk-container-id-7 div.sk-item {position: relative;z-index: 1;}#sk-container-id-7 div.sk-parallel {display: flex;align-items: stretch;justify-content: center;background-color: white;position: relative;}#sk-container-id-7 div.sk-item::before, #sk-container-id-7 div.sk-parallel-item::before {content: \"\";position: absolute;border-left: 1px solid gray;box-sizing: border-box;top: 0;bottom: 0;left: 50%;z-index: -1;}#sk-container-id-7 div.sk-parallel-item {display: flex;flex-direction: column;z-index: 1;position: relative;background-color: white;}#sk-container-id-7 div.sk-parallel-item:first-child::after {align-self: flex-end;width: 50%;}#sk-container-id-7 div.sk-parallel-item:last-child::after {align-self: flex-start;width: 50%;}#sk-container-id-7 div.sk-parallel-item:only-child::after {width: 0;}#sk-container-id-7 div.sk-dashed-wrapped {border: 1px dashed gray;margin: 0 0.4em 0.5em 0.4em;box-sizing: border-box;padding-bottom: 0.4em;background-color: white;}#sk-container-id-7 div.sk-label label {font-family: monospace;font-weight: bold;display: inline-block;line-height: 1.2em;}#sk-container-id-7 div.sk-label-container {text-align: center;}#sk-container-id-7 div.sk-container {/* jupyter's `normalize.less` sets `[hidden] { display: none; }` but bootstrap.min.css set `[hidden] { display: none !important; }` so we also need the `!important` here to be able to override the default hidden behavior on the sphinx rendered scikit-learn.org. See: https://github.com/scikit-learn/scikit-learn/issues/21755 */display: inline-block !important;position: relative;}#sk-container-id-7 div.sk-text-repr-fallback {display: none;}</style><div id=\"sk-container-id-7\" class=\"sk-top-container\"><div class=\"sk-text-repr-fallback\"><pre>XGBClassifier(base_score=0.5, booster=&#x27;gbtree&#x27;, callbacks=None,\n",
       "              colsample_bylevel=1, colsample_bynode=1, colsample_bytree=1,\n",
       "              early_stopping_rounds=None, enable_categorical=False,\n",
       "              eval_metric=None, feature_types=None, gamma=0, gpu_id=-1,\n",
       "              grow_policy=&#x27;depthwise&#x27;, importance_type=None,\n",
       "              interaction_constraints=&#x27;&#x27;, learning_rate=0.1, max_bin=256,\n",
       "              max_cat_threshold=64, max_cat_to_onehot=4, max_delta_step=0,\n",
       "              max_depth=4, max_leaves=0, min_child_weight=1, missing=nan,\n",
       "              monotone_constraints=&#x27;()&#x27;, n_estimators=100, n_jobs=0,\n",
       "              num_class=3, num_parallel_tree=1, objective=&#x27;multi:softmax&#x27;, ...)</pre><b>In a Jupyter environment, please rerun this cell to show the HTML representation or trust the notebook. <br />On GitHub, the HTML representation is unable to render, please try loading this page with nbviewer.org.</b></div><div class=\"sk-container\" hidden><div class=\"sk-item\"><div class=\"sk-estimator sk-toggleable\"><input class=\"sk-toggleable__control sk-hidden--visually\" id=\"sk-estimator-id-7\" type=\"checkbox\" checked><label for=\"sk-estimator-id-7\" class=\"sk-toggleable__label sk-toggleable__label-arrow\">XGBClassifier</label><div class=\"sk-toggleable__content\"><pre>XGBClassifier(base_score=0.5, booster=&#x27;gbtree&#x27;, callbacks=None,\n",
       "              colsample_bylevel=1, colsample_bynode=1, colsample_bytree=1,\n",
       "              early_stopping_rounds=None, enable_categorical=False,\n",
       "              eval_metric=None, feature_types=None, gamma=0, gpu_id=-1,\n",
       "              grow_policy=&#x27;depthwise&#x27;, importance_type=None,\n",
       "              interaction_constraints=&#x27;&#x27;, learning_rate=0.1, max_bin=256,\n",
       "              max_cat_threshold=64, max_cat_to_onehot=4, max_delta_step=0,\n",
       "              max_depth=4, max_leaves=0, min_child_weight=1, missing=nan,\n",
       "              monotone_constraints=&#x27;()&#x27;, n_estimators=100, n_jobs=0,\n",
       "              num_class=3, num_parallel_tree=1, objective=&#x27;multi:softmax&#x27;, ...)</pre></div></div></div></div></div>"
      ],
      "text/plain": [
       "XGBClassifier(base_score=0.5, booster='gbtree', callbacks=None,\n",
       "              colsample_bylevel=1, colsample_bynode=1, colsample_bytree=1,\n",
       "              early_stopping_rounds=None, enable_categorical=False,\n",
       "              eval_metric=None, feature_types=None, gamma=0, gpu_id=-1,\n",
       "              grow_policy='depthwise', importance_type=None,\n",
       "              interaction_constraints='', learning_rate=0.1, max_bin=256,\n",
       "              max_cat_threshold=64, max_cat_to_onehot=4, max_delta_step=0,\n",
       "              max_depth=4, max_leaves=0, min_child_weight=1, missing=nan,\n",
       "              monotone_constraints='()', n_estimators=100, n_jobs=0,\n",
       "              num_class=3, num_parallel_tree=1, objective='multi:softmax', ...)"
      ]
     },
     "execution_count": 75,
     "metadata": {},
     "output_type": "execute_result"
    }
   ],
   "source": [
    "%%time\n",
    "model_xgb = xgb.XGBClassifier(objective='multi:softmax', \n",
    "                          num_class=3,\n",
    "                          max_depth=4, \n",
    "                          learning_rate=0.1, \n",
    "                          n_estimators=100, \n",
    "                          subsample=0.8)\n",
    "\n",
    "model_xgb.fit(X_train_pad, y_train)"
   ]
  },
  {
   "cell_type": "code",
   "execution_count": 76,
   "metadata": {},
   "outputs": [
    {
     "name": "stdout",
     "output_type": "stream",
     "text": [
      "accuracy 0.6814\n",
      "              precision    recall  f1-score   support\n",
      "\n",
      "           0       0.68      0.82      0.74       286\n",
      "           1       0.74      0.80      0.77       240\n",
      "           2       0.59      0.40      0.48       243\n",
      "\n",
      "    accuracy                           0.68       769\n",
      "   macro avg       0.67      0.67      0.66       769\n",
      "weighted avg       0.67      0.68      0.67       769\n",
      "\n"
     ]
    }
   ],
   "source": [
    "y_pred_xgb = model_xgb.predict(X_test_pad)\n",
    "print ('accuracy %s' % np.round(accuracy_score(y_test, y_pred_xgb), 4))\n",
    "print(classification_report(y_test, y_pred_xgb))"
   ]
  },
  {
   "cell_type": "code",
   "execution_count": 77,
   "metadata": {},
   "outputs": [
    {
     "data": {
      "text/plain": [
       "161     0\n",
       "1720    0\n",
       "2066    0\n",
       "3706    0\n",
       "2990    2\n",
       "       ..\n",
       "1104    0\n",
       "1684    1\n",
       "1542    1\n",
       "523     0\n",
       "935     2\n",
       "Name: category, Length: 769, dtype: int64"
      ]
     },
     "execution_count": 77,
     "metadata": {},
     "output_type": "execute_result"
    }
   ],
   "source": [
    "y_test"
   ]
  },
  {
   "cell_type": "code",
   "execution_count": null,
   "metadata": {},
   "outputs": [],
   "source": []
  }
 ],
 "metadata": {
  "kernelspec": {
   "display_name": "Python 3",
   "language": "python",
   "name": "python3"
  },
  "language_info": {
   "codemirror_mode": {
    "name": "ipython",
    "version": 3
   },
   "file_extension": ".py",
   "mimetype": "text/x-python",
   "name": "python",
   "nbconvert_exporter": "python",
   "pygments_lexer": "ipython3",
   "version": "3.9.1"
  }
 },
 "nbformat": 4,
 "nbformat_minor": 4
}
