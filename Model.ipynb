{
 "cells": [
  {
   "cell_type": "code",
   "execution_count": 1,
   "metadata": {},
   "outputs": [],
   "source": [
    "# !pip install text-hammer\n",
    "# !pip install spacy -q\n",
    "# !python -m spacy download en_core_web_sm -q\n",
    "# !pip install xgboost"
   ]
  },
  {
   "cell_type": "code",
   "execution_count": 2,
   "metadata": {},
   "outputs": [],
   "source": [
    "import pandas as pd\n",
    "import numpy as np\n",
    "import matplotlib.pyplot as plt\n",
    "import seaborn as sns"
   ]
  },
  {
   "cell_type": "code",
   "execution_count": 3,
   "metadata": {},
   "outputs": [
    {
     "name": "stdout",
     "output_type": "stream",
     "text": [
      "No cleaned df\n"
     ]
    }
   ],
   "source": [
    "flag = False\n",
    "test_df = pd.read_csv('test_data.csv')\n",
    "train_df = pd.read_csv('train_data.csv')\n",
    "solutions_df = pd.read_csv('train_solution.csv')\n",
    "\n",
    "#Если код уже запускался, то не будет необходимость каждый раз заново проводить процедуру text lemmatization\n",
    "try:\n",
    "    clean_train_df = pd.read_csv('clean_train_df.csv')\n",
    "    clean_test_df = pd.read_csv('clean_test_df.csv')\n",
    "except:\n",
    "    flag = True\n",
    "    print('No cleaned df' )"
   ]
  },
  {
   "cell_type": "code",
   "execution_count": 4,
   "metadata": {},
   "outputs": [],
   "source": [
    "train_df = train_df.merge(solutions_df, right_on='id', left_on='id')"
   ]
  },
  {
   "cell_type": "code",
   "execution_count": 5,
   "metadata": {},
   "outputs": [
    {
     "data": {
      "text/html": [
       "<div>\n",
       "<style scoped>\n",
       "    .dataframe tbody tr th:only-of-type {\n",
       "        vertical-align: middle;\n",
       "    }\n",
       "\n",
       "    .dataframe tbody tr th {\n",
       "        vertical-align: top;\n",
       "    }\n",
       "\n",
       "    .dataframe thead th {\n",
       "        text-align: right;\n",
       "    }\n",
       "</style>\n",
       "<table border=\"1\" class=\"dataframe\">\n",
       "  <thead>\n",
       "    <tr style=\"text-align: right;\">\n",
       "      <th></th>\n",
       "      <th>id</th>\n",
       "      <th>message</th>\n",
       "      <th>category</th>\n",
       "    </tr>\n",
       "  </thead>\n",
       "  <tbody>\n",
       "    <tr>\n",
       "      <th>0</th>\n",
       "      <td>271828</td>\n",
       "      <td>Over $616 million in Bitcoin was electrocated ...</td>\n",
       "      <td>1</td>\n",
       "    </tr>\n",
       "    <tr>\n",
       "      <th>1</th>\n",
       "      <td>271829</td>\n",
       "      <td>Quiz: Thursday or friday?</td>\n",
       "      <td>0</td>\n",
       "    </tr>\n",
       "    <tr>\n",
       "      <th>2</th>\n",
       "      <td>271830</td>\n",
       "      <td>The Australian Revenue Authority will start co...</td>\n",
       "      <td>1</td>\n",
       "    </tr>\n",
       "    <tr>\n",
       "      <th>3</th>\n",
       "      <td>271831</td>\n",
       "      <td>Let's continue😉. I present to you my new review</td>\n",
       "      <td>2</td>\n",
       "    </tr>\n",
       "    <tr>\n",
       "      <th>4</th>\n",
       "      <td>271832</td>\n",
       "      <td>Here comes your future palette.</td>\n",
       "      <td>2</td>\n",
       "    </tr>\n",
       "    <tr>\n",
       "      <th>...</th>\n",
       "      <td>...</td>\n",
       "      <td>...</td>\n",
       "      <td>...</td>\n",
       "    </tr>\n",
       "    <tr>\n",
       "      <th>3839</th>\n",
       "      <td>275667</td>\n",
       "      <td>On the air, the shooter's kms and the man who ...</td>\n",
       "      <td>2</td>\n",
       "    </tr>\n",
       "    <tr>\n",
       "      <th>3840</th>\n",
       "      <td>275668</td>\n",
       "      <td>This shit that's off-the-books.</td>\n",
       "      <td>0</td>\n",
       "    </tr>\n",
       "    <tr>\n",
       "      <th>3841</th>\n",
       "      <td>275669</td>\n",
       "      <td>Time to go to the sky, tabor.</td>\n",
       "      <td>2</td>\n",
       "    </tr>\n",
       "    <tr>\n",
       "      <th>3842</th>\n",
       "      <td>275670</td>\n",
       "      <td>uraaaaaaaa</td>\n",
       "      <td>0</td>\n",
       "    </tr>\n",
       "    <tr>\n",
       "      <th>3843</th>\n",
       "      <td>275671</td>\n",
       "      <td>Albert I only drink VODKA</td>\n",
       "      <td>0</td>\n",
       "    </tr>\n",
       "  </tbody>\n",
       "</table>\n",
       "<p>3844 rows × 3 columns</p>\n",
       "</div>"
      ],
      "text/plain": [
       "          id                                            message  category\n",
       "0     271828  Over $616 million in Bitcoin was electrocated ...         1\n",
       "1     271829                          Quiz: Thursday or friday?         0\n",
       "2     271830  The Australian Revenue Authority will start co...         1\n",
       "3     271831   Let's continue😉. I present to you my new review          2\n",
       "4     271832                    Here comes your future palette.         2\n",
       "...      ...                                                ...       ...\n",
       "3839  275667  On the air, the shooter's kms and the man who ...         2\n",
       "3840  275668                    This shit that's off-the-books.         0\n",
       "3841  275669                      Time to go to the sky, tabor.         2\n",
       "3842  275670                                         uraaaaaaaa         0\n",
       "3843  275671                          Albert I only drink VODKA         0\n",
       "\n",
       "[3844 rows x 3 columns]"
      ]
     },
     "execution_count": 5,
     "metadata": {},
     "output_type": "execute_result"
    }
   ],
   "source": [
    "train_df"
   ]
  },
  {
   "cell_type": "code",
   "execution_count": 6,
   "metadata": {},
   "outputs": [
    {
     "name": "stdout",
     "output_type": "stream",
     "text": [
      "<class 'pandas.core.frame.DataFrame'>\n",
      "Int64Index: 3844 entries, 0 to 3843\n",
      "Data columns (total 3 columns):\n",
      " #   Column    Non-Null Count  Dtype \n",
      "---  ------    --------------  ----- \n",
      " 0   id        3844 non-null   int64 \n",
      " 1   message   3844 non-null   object\n",
      " 2   category  3844 non-null   int64 \n",
      "dtypes: int64(2), object(1)\n",
      "memory usage: 120.1+ KB\n"
     ]
    }
   ],
   "source": [
    "train_df.info()"
   ]
  },
  {
   "cell_type": "markdown",
   "metadata": {},
   "source": [
    "Пропущенных значений нету"
   ]
  },
  {
   "cell_type": "code",
   "execution_count": 7,
   "metadata": {},
   "outputs": [],
   "source": [
    "train_df['amount_sym'] = train_df['message'].str.len()\n",
    "train_df['amount_words'] = train_df['message'].str.split(' ').str.len()\n",
    "train_df['amount_numbers'] = train_df['message'].str.count('\\d')"
   ]
  },
  {
   "cell_type": "markdown",
   "metadata": {},
   "source": [
    "Добавим три столбца:\n",
    "1) Количество символов в сообщении\n",
    "\n",
    "2) Количество слов в сообщении\n",
    "\n",
    "3) Количество цифр в сообщении"
   ]
  },
  {
   "cell_type": "code",
   "execution_count": 8,
   "metadata": {},
   "outputs": [
    {
     "data": {
      "text/html": [
       "<div>\n",
       "<style scoped>\n",
       "    .dataframe tbody tr th:only-of-type {\n",
       "        vertical-align: middle;\n",
       "    }\n",
       "\n",
       "    .dataframe tbody tr th {\n",
       "        vertical-align: top;\n",
       "    }\n",
       "\n",
       "    .dataframe thead th {\n",
       "        text-align: right;\n",
       "    }\n",
       "</style>\n",
       "<table border=\"1\" class=\"dataframe\">\n",
       "  <thead>\n",
       "    <tr style=\"text-align: right;\">\n",
       "      <th></th>\n",
       "      <th>id</th>\n",
       "      <th>message</th>\n",
       "      <th>category</th>\n",
       "      <th>amount_sym</th>\n",
       "      <th>amount_words</th>\n",
       "      <th>amount_numbers</th>\n",
       "    </tr>\n",
       "  </thead>\n",
       "  <tbody>\n",
       "    <tr>\n",
       "      <th>0</th>\n",
       "      <td>271828</td>\n",
       "      <td>Over $616 million in Bitcoin was electrocated ...</td>\n",
       "      <td>1</td>\n",
       "      <td>1454</td>\n",
       "      <td>242</td>\n",
       "      <td>28</td>\n",
       "    </tr>\n",
       "    <tr>\n",
       "      <th>1</th>\n",
       "      <td>271829</td>\n",
       "      <td>Quiz: Thursday or friday?</td>\n",
       "      <td>0</td>\n",
       "      <td>25</td>\n",
       "      <td>4</td>\n",
       "      <td>0</td>\n",
       "    </tr>\n",
       "    <tr>\n",
       "      <th>2</th>\n",
       "      <td>271830</td>\n",
       "      <td>The Australian Revenue Authority will start co...</td>\n",
       "      <td>1</td>\n",
       "      <td>1080</td>\n",
       "      <td>169</td>\n",
       "      <td>10</td>\n",
       "    </tr>\n",
       "    <tr>\n",
       "      <th>3</th>\n",
       "      <td>271831</td>\n",
       "      <td>Let's continue😉. I present to you my new review</td>\n",
       "      <td>2</td>\n",
       "      <td>48</td>\n",
       "      <td>10</td>\n",
       "      <td>0</td>\n",
       "    </tr>\n",
       "    <tr>\n",
       "      <th>4</th>\n",
       "      <td>271832</td>\n",
       "      <td>Here comes your future palette.</td>\n",
       "      <td>2</td>\n",
       "      <td>31</td>\n",
       "      <td>5</td>\n",
       "      <td>0</td>\n",
       "    </tr>\n",
       "    <tr>\n",
       "      <th>...</th>\n",
       "      <td>...</td>\n",
       "      <td>...</td>\n",
       "      <td>...</td>\n",
       "      <td>...</td>\n",
       "      <td>...</td>\n",
       "      <td>...</td>\n",
       "    </tr>\n",
       "    <tr>\n",
       "      <th>3839</th>\n",
       "      <td>275667</td>\n",
       "      <td>On the air, the shooter's kms and the man who ...</td>\n",
       "      <td>2</td>\n",
       "      <td>1438</td>\n",
       "      <td>281</td>\n",
       "      <td>0</td>\n",
       "    </tr>\n",
       "    <tr>\n",
       "      <th>3840</th>\n",
       "      <td>275668</td>\n",
       "      <td>This shit that's off-the-books.</td>\n",
       "      <td>0</td>\n",
       "      <td>31</td>\n",
       "      <td>4</td>\n",
       "      <td>0</td>\n",
       "    </tr>\n",
       "    <tr>\n",
       "      <th>3841</th>\n",
       "      <td>275669</td>\n",
       "      <td>Time to go to the sky, tabor.</td>\n",
       "      <td>2</td>\n",
       "      <td>29</td>\n",
       "      <td>7</td>\n",
       "      <td>0</td>\n",
       "    </tr>\n",
       "    <tr>\n",
       "      <th>3842</th>\n",
       "      <td>275670</td>\n",
       "      <td>uraaaaaaaa</td>\n",
       "      <td>0</td>\n",
       "      <td>10</td>\n",
       "      <td>1</td>\n",
       "      <td>0</td>\n",
       "    </tr>\n",
       "    <tr>\n",
       "      <th>3843</th>\n",
       "      <td>275671</td>\n",
       "      <td>Albert I only drink VODKA</td>\n",
       "      <td>0</td>\n",
       "      <td>25</td>\n",
       "      <td>5</td>\n",
       "      <td>0</td>\n",
       "    </tr>\n",
       "  </tbody>\n",
       "</table>\n",
       "<p>3844 rows × 6 columns</p>\n",
       "</div>"
      ],
      "text/plain": [
       "          id                                            message  category  \\\n",
       "0     271828  Over $616 million in Bitcoin was electrocated ...         1   \n",
       "1     271829                          Quiz: Thursday or friday?         0   \n",
       "2     271830  The Australian Revenue Authority will start co...         1   \n",
       "3     271831   Let's continue😉. I present to you my new review          2   \n",
       "4     271832                    Here comes your future palette.         2   \n",
       "...      ...                                                ...       ...   \n",
       "3839  275667  On the air, the shooter's kms and the man who ...         2   \n",
       "3840  275668                    This shit that's off-the-books.         0   \n",
       "3841  275669                      Time to go to the sky, tabor.         2   \n",
       "3842  275670                                         uraaaaaaaa         0   \n",
       "3843  275671                          Albert I only drink VODKA         0   \n",
       "\n",
       "      amount_sym  amount_words  amount_numbers  \n",
       "0           1454           242              28  \n",
       "1             25             4               0  \n",
       "2           1080           169              10  \n",
       "3             48            10               0  \n",
       "4             31             5               0  \n",
       "...          ...           ...             ...  \n",
       "3839        1438           281               0  \n",
       "3840          31             4               0  \n",
       "3841          29             7               0  \n",
       "3842          10             1               0  \n",
       "3843          25             5               0  \n",
       "\n",
       "[3844 rows x 6 columns]"
      ]
     },
     "execution_count": 8,
     "metadata": {},
     "output_type": "execute_result"
    }
   ],
   "source": [
    "train_df"
   ]
  },
  {
   "cell_type": "code",
   "execution_count": 9,
   "metadata": {},
   "outputs": [
    {
     "data": {
      "text/html": [
       "<div>\n",
       "<style scoped>\n",
       "    .dataframe tbody tr th:only-of-type {\n",
       "        vertical-align: middle;\n",
       "    }\n",
       "\n",
       "    .dataframe tbody tr th {\n",
       "        vertical-align: top;\n",
       "    }\n",
       "\n",
       "    .dataframe thead th {\n",
       "        text-align: right;\n",
       "    }\n",
       "</style>\n",
       "<table border=\"1\" class=\"dataframe\">\n",
       "  <thead>\n",
       "    <tr style=\"text-align: right;\">\n",
       "      <th></th>\n",
       "      <th>id</th>\n",
       "      <th>category</th>\n",
       "      <th>amount_sym</th>\n",
       "      <th>amount_words</th>\n",
       "      <th>amount_numbers</th>\n",
       "    </tr>\n",
       "  </thead>\n",
       "  <tbody>\n",
       "    <tr>\n",
       "      <th>count</th>\n",
       "      <td>3844.000000</td>\n",
       "      <td>3844.000000</td>\n",
       "      <td>3844.000000</td>\n",
       "      <td>3844.000000</td>\n",
       "      <td>3844.000000</td>\n",
       "    </tr>\n",
       "    <tr>\n",
       "      <th>mean</th>\n",
       "      <td>273749.500000</td>\n",
       "      <td>0.945109</td>\n",
       "      <td>383.022373</td>\n",
       "      <td>66.932882</td>\n",
       "      <td>3.695890</td>\n",
       "    </tr>\n",
       "    <tr>\n",
       "      <th>std</th>\n",
       "      <td>1109.811546</td>\n",
       "      <td>0.827799</td>\n",
       "      <td>534.430787</td>\n",
       "      <td>92.650663</td>\n",
       "      <td>8.950198</td>\n",
       "    </tr>\n",
       "    <tr>\n",
       "      <th>min</th>\n",
       "      <td>271828.000000</td>\n",
       "      <td>0.000000</td>\n",
       "      <td>3.000000</td>\n",
       "      <td>1.000000</td>\n",
       "      <td>0.000000</td>\n",
       "    </tr>\n",
       "    <tr>\n",
       "      <th>25%</th>\n",
       "      <td>272788.750000</td>\n",
       "      <td>0.000000</td>\n",
       "      <td>33.000000</td>\n",
       "      <td>6.000000</td>\n",
       "      <td>0.000000</td>\n",
       "    </tr>\n",
       "    <tr>\n",
       "      <th>50%</th>\n",
       "      <td>273749.500000</td>\n",
       "      <td>1.000000</td>\n",
       "      <td>109.000000</td>\n",
       "      <td>20.000000</td>\n",
       "      <td>0.000000</td>\n",
       "    </tr>\n",
       "    <tr>\n",
       "      <th>75%</th>\n",
       "      <td>274710.250000</td>\n",
       "      <td>2.000000</td>\n",
       "      <td>527.500000</td>\n",
       "      <td>94.000000</td>\n",
       "      <td>4.000000</td>\n",
       "    </tr>\n",
       "    <tr>\n",
       "      <th>max</th>\n",
       "      <td>275671.000000</td>\n",
       "      <td>2.000000</td>\n",
       "      <td>3273.000000</td>\n",
       "      <td>606.000000</td>\n",
       "      <td>126.000000</td>\n",
       "    </tr>\n",
       "  </tbody>\n",
       "</table>\n",
       "</div>"
      ],
      "text/plain": [
       "                  id     category   amount_sym  amount_words  amount_numbers\n",
       "count    3844.000000  3844.000000  3844.000000   3844.000000     3844.000000\n",
       "mean   273749.500000     0.945109   383.022373     66.932882        3.695890\n",
       "std      1109.811546     0.827799   534.430787     92.650663        8.950198\n",
       "min    271828.000000     0.000000     3.000000      1.000000        0.000000\n",
       "25%    272788.750000     0.000000    33.000000      6.000000        0.000000\n",
       "50%    273749.500000     1.000000   109.000000     20.000000        0.000000\n",
       "75%    274710.250000     2.000000   527.500000     94.000000        4.000000\n",
       "max    275671.000000     2.000000  3273.000000    606.000000      126.000000"
      ]
     },
     "execution_count": 9,
     "metadata": {},
     "output_type": "execute_result"
    }
   ],
   "source": [
    "train_df.describe()"
   ]
  },
  {
   "cell_type": "code",
   "execution_count": 10,
   "metadata": {},
   "outputs": [
    {
     "data": {
      "text/plain": [
       "<AxesSubplot:>"
      ]
     },
     "execution_count": 10,
     "metadata": {},
     "output_type": "execute_result"
    },
    {
     "data": {
      "image/png": "[encoded data removed]",
      "text/plain": [
       "<Figure size 432x288 with 1 Axes>"
      ]
     },
     "metadata": {
      "needs_background": "light"
     },
     "output_type": "display_data"
    }
   ],
   "source": [
    "train_df['category'].value_counts().plot.bar(x='category', rot=0)"
   ]
  },
  {
   "cell_type": "markdown",
   "metadata": {},
   "source": [
    "В целом у нас тут почти идельное распределение по типам чатов поэтому в будущем не придётся применять различные модели для балансировки."
   ]
  },
  {
   "cell_type": "markdown",
   "metadata": {},
   "source": [
    "# Text Pre-Processing"
   ]
  },
  {
   "cell_type": "code",
   "execution_count": 11,
   "metadata": {},
   "outputs": [],
   "source": [
    "import text_hammer as th"
   ]
  },
  {
   "cell_type": "markdown",
   "metadata": {},
   "source": [
    "Воспользуемся готовой библиотекой для чистки сообщений"
   ]
  },
  {
   "cell_type": "code",
   "execution_count": 12,
   "metadata": {},
   "outputs": [],
   "source": [
    "def text_preprocessing(df, column):\n",
    "    df[column] = df[column].progress_apply(lambda x:str(x).lower())\n",
    "    df[column] = df[column].progress_apply(lambda x: th.cont_exp(x))\n",
    "    df[column] = df[column].progress_apply(lambda x: th.remove_emails(x))\n",
    "    df[column] = df[column].progress_apply(lambda x: th.remove_html_tags(x))\n",
    "    df[column] = df[column].progress_apply(lambda x: th.remove_stopwords(x))\n",
    "    df[column] = df[column].progress_apply(lambda x: th.remove_special_chars(x))\n",
    "    df[column] = df[column].progress_apply(lambda x: th.remove_accented_chars(x))\n",
    "    df[column] = df[column].progress_apply(lambda x: th.make_base(x))\n",
    "    \n",
    "    return df"
   ]
  },
  {
   "cell_type": "code",
   "execution_count": 13,
   "metadata": {
    "scrolled": true
   },
   "outputs": [
    {
     "data": {
      "application/vnd.jupyter.widget-view+json": {
       "model_id": "dbe53559fc3441bbab290b79c3d5fc4c",
       "version_major": 2,
       "version_minor": 0
      },
      "text/plain": [
       "  0%|          | 0/3844 [00:00<?, ?it/s]"
      ]
     },
     "metadata": {},
     "output_type": "display_data"
    },
    {
     "data": {
      "application/vnd.jupyter.widget-view+json": {
       "model_id": "33882cfdb2434960a32f671dfc17c4e1",
       "version_major": 2,
       "version_minor": 0
      },
      "text/plain": [
       "  0%|          | 0/3844 [00:00<?, ?it/s]"
      ]
     },
     "metadata": {},
     "output_type": "display_data"
    },
    {
     "data": {
      "application/vnd.jupyter.widget-view+json": {
       "model_id": "e8648a4caffc438b899cb89bbddf2b4f",
       "version_major": 2,
       "version_minor": 0
      },
      "text/plain": [
       "  0%|          | 0/3844 [00:00<?, ?it/s]"
      ]
     },
     "metadata": {},
     "output_type": "display_data"
    },
    {
     "data": {
      "application/vnd.jupyter.widget-view+json": {
       "model_id": "299fd2fe114f4a0d920e3b56233f4de3",
       "version_major": 2,
       "version_minor": 0
      },
      "text/plain": [
       "  0%|          | 0/3844 [00:00<?, ?it/s]"
      ]
     },
     "metadata": {},
     "output_type": "display_data"
    },
    {
     "data": {
      "application/vnd.jupyter.widget-view+json": {
       "model_id": "2b9515f760774afb9cb36f7217a8ff0f",
       "version_major": 2,
       "version_minor": 0
      },
      "text/plain": [
       "  0%|          | 0/3844 [00:00<?, ?it/s]"
      ]
     },
     "metadata": {},
     "output_type": "display_data"
    },
    {
     "data": {
      "application/vnd.jupyter.widget-view+json": {
       "model_id": "fcb435b682b54497b548b3ae4690b0fb",
       "version_major": 2,
       "version_minor": 0
      },
      "text/plain": [
       "  0%|          | 0/3844 [00:00<?, ?it/s]"
      ]
     },
     "metadata": {},
     "output_type": "display_data"
    },
    {
     "data": {
      "application/vnd.jupyter.widget-view+json": {
       "model_id": "a6d29f884c0b420284769f855651e82d",
       "version_major": 2,
       "version_minor": 0
      },
      "text/plain": [
       "  0%|          | 0/3844 [00:00<?, ?it/s]"
      ]
     },
     "metadata": {},
     "output_type": "display_data"
    },
    {
     "data": {
      "application/vnd.jupyter.widget-view+json": {
       "model_id": "0b55120c2e2f4254b8088e615f1d3fe8",
       "version_major": 2,
       "version_minor": 0
      },
      "text/plain": [
       "  0%|          | 0/3844 [00:00<?, ?it/s]"
      ]
     },
     "metadata": {},
     "output_type": "display_data"
    },
    {
     "data": {
      "application/vnd.jupyter.widget-view+json": {
       "model_id": "24cb5df3b0a74331a4be12e8c02d8700",
       "version_major": 2,
       "version_minor": 0
      },
      "text/plain": [
       "  0%|          | 0/5927 [00:00<?, ?it/s]"
      ]
     },
     "metadata": {},
     "output_type": "display_data"
    },
    {
     "data": {
      "application/vnd.jupyter.widget-view+json": {
       "model_id": "54d9d0be57394cd982b9a17e47a7a42e",
       "version_major": 2,
       "version_minor": 0
      },
      "text/plain": [
       "  0%|          | 0/5927 [00:00<?, ?it/s]"
      ]
     },
     "metadata": {},
     "output_type": "display_data"
    },
    {
     "data": {
      "application/vnd.jupyter.widget-view+json": {
       "model_id": "283bc88ac0a84b06b1cd6800449cc444",
       "version_major": 2,
       "version_minor": 0
      },
      "text/plain": [
       "  0%|          | 0/5927 [00:00<?, ?it/s]"
      ]
     },
     "metadata": {},
     "output_type": "display_data"
    },
    {
     "data": {
      "application/vnd.jupyter.widget-view+json": {
       "model_id": "78b8fbcdb13b425598bed07aaa979492",
       "version_major": 2,
       "version_minor": 0
      },
      "text/plain": [
       "  0%|          | 0/5927 [00:00<?, ?it/s]"
      ]
     },
     "metadata": {},
     "output_type": "display_data"
    },
    {
     "data": {
      "application/vnd.jupyter.widget-view+json": {
       "model_id": "e564efbf67aa476da8318e23af1ff51a",
       "version_major": 2,
       "version_minor": 0
      },
      "text/plain": [
       "  0%|          | 0/5927 [00:00<?, ?it/s]"
      ]
     },
     "metadata": {},
     "output_type": "display_data"
    },
    {
     "data": {
      "application/vnd.jupyter.widget-view+json": {
       "model_id": "9a59ad8f90d5449b80b15ae88bd69cd8",
       "version_major": 2,
       "version_minor": 0
      },
      "text/plain": [
       "  0%|          | 0/5927 [00:00<?, ?it/s]"
      ]
     },
     "metadata": {},
     "output_type": "display_data"
    },
    {
     "data": {
      "application/vnd.jupyter.widget-view+json": {
       "model_id": "5542d2d9912547518051688ab40f7f8b",
       "version_major": 2,
       "version_minor": 0
      },
      "text/plain": [
       "  0%|          | 0/5927 [00:00<?, ?it/s]"
      ]
     },
     "metadata": {},
     "output_type": "display_data"
    },
    {
     "data": {
      "application/vnd.jupyter.widget-view+json": {
       "model_id": "77314432c4454fc89ed9b7898a7db4e6",
       "version_major": 2,
       "version_minor": 0
      },
      "text/plain": [
       "  0%|          | 0/5927 [00:00<?, ?it/s]"
      ]
     },
     "metadata": {},
     "output_type": "display_data"
    }
   ],
   "source": [
    "if flag == True:\n",
    "    clean_train_df = text_preprocessing(train_df, \"message\")\n",
    "    clean_test_df = text_preprocessing(test_df, \"message\")"
   ]
  },
  {
   "cell_type": "code",
   "execution_count": 16,
   "metadata": {},
   "outputs": [],
   "source": [
    " # нужно чтобы каждый раз не проделывать одну и туже процедуру\n",
    "clean_train_df.to_csv('clean_train_df.csv')\n",
    "clean_test_df.to_csv('clean_test_df.csv')"
   ]
  },
  {
   "cell_type": "code",
   "execution_count": 17,
   "metadata": {},
   "outputs": [
    {
     "data": {
      "text/html": [
       "<div>\n",
       "<style scoped>\n",
       "    .dataframe tbody tr th:only-of-type {\n",
       "        vertical-align: middle;\n",
       "    }\n",
       "\n",
       "    .dataframe tbody tr th {\n",
       "        vertical-align: top;\n",
       "    }\n",
       "\n",
       "    .dataframe thead th {\n",
       "        text-align: right;\n",
       "    }\n",
       "</style>\n",
       "<table border=\"1\" class=\"dataframe\">\n",
       "  <thead>\n",
       "    <tr style=\"text-align: right;\">\n",
       "      <th></th>\n",
       "      <th>id</th>\n",
       "      <th>message</th>\n",
       "      <th>category</th>\n",
       "      <th>amount_sym</th>\n",
       "      <th>amount_words</th>\n",
       "      <th>amount_numbers</th>\n",
       "    </tr>\n",
       "  </thead>\n",
       "  <tbody>\n",
       "    <tr>\n",
       "      <th>0</th>\n",
       "      <td>271828</td>\n",
       "      <td>616 million bitcoin electrocate september wrap...</td>\n",
       "      <td>1</td>\n",
       "      <td>1454</td>\n",
       "      <td>242</td>\n",
       "      <td>28</td>\n",
       "    </tr>\n",
       "    <tr>\n",
       "      <th>1</th>\n",
       "      <td>271829</td>\n",
       "      <td>quiz thursday friday</td>\n",
       "      <td>0</td>\n",
       "      <td>25</td>\n",
       "      <td>4</td>\n",
       "      <td>0</td>\n",
       "    </tr>\n",
       "    <tr>\n",
       "      <th>2</th>\n",
       "      <td>271830</td>\n",
       "      <td>australian revenue authority start collect tax...</td>\n",
       "      <td>1</td>\n",
       "      <td>1080</td>\n",
       "      <td>169</td>\n",
       "      <td>10</td>\n",
       "    </tr>\n",
       "    <tr>\n",
       "      <th>3</th>\n",
       "      <td>271831</td>\n",
       "      <td>let continue present new review</td>\n",
       "      <td>2</td>\n",
       "      <td>48</td>\n",
       "      <td>10</td>\n",
       "      <td>0</td>\n",
       "    </tr>\n",
       "    <tr>\n",
       "      <th>4</th>\n",
       "      <td>271832</td>\n",
       "      <td>come future palette</td>\n",
       "      <td>2</td>\n",
       "      <td>31</td>\n",
       "      <td>5</td>\n",
       "      <td>0</td>\n",
       "    </tr>\n",
       "  </tbody>\n",
       "</table>\n",
       "</div>"
      ],
      "text/plain": [
       "       id                                            message  category  \\\n",
       "0  271828  616 million bitcoin electrocate september wrap...         1   \n",
       "1  271829                               quiz thursday friday         0   \n",
       "2  271830  australian revenue authority start collect tax...         1   \n",
       "3  271831                    let continue present new review         2   \n",
       "4  271832                                come future palette         2   \n",
       "\n",
       "   amount_sym  amount_words  amount_numbers  \n",
       "0        1454           242              28  \n",
       "1          25             4               0  \n",
       "2        1080           169              10  \n",
       "3          48            10               0  \n",
       "4          31             5               0  "
      ]
     },
     "execution_count": 17,
     "metadata": {},
     "output_type": "execute_result"
    }
   ],
   "source": [
    "clean_train_df.head(5)"
   ]
  },
  {
   "cell_type": "code",
   "execution_count": 18,
   "metadata": {},
   "outputs": [
    {
     "data": {
      "text/html": [
       "<div>\n",
       "<style scoped>\n",
       "    .dataframe tbody tr th:only-of-type {\n",
       "        vertical-align: middle;\n",
       "    }\n",
       "\n",
       "    .dataframe tbody tr th {\n",
       "        vertical-align: top;\n",
       "    }\n",
       "\n",
       "    .dataframe thead th {\n",
       "        text-align: right;\n",
       "    }\n",
       "</style>\n",
       "<table border=\"1\" class=\"dataframe\">\n",
       "  <thead>\n",
       "    <tr style=\"text-align: right;\">\n",
       "      <th></th>\n",
       "      <th>id</th>\n",
       "      <th>message</th>\n",
       "    </tr>\n",
       "  </thead>\n",
       "  <tbody>\n",
       "    <tr>\n",
       "      <th>0</th>\n",
       "      <td>275672</td>\n",
       "      <td>lot people job fair tonight</td>\n",
       "    </tr>\n",
       "    <tr>\n",
       "      <th>1</th>\n",
       "      <td>275673</td>\n",
       "      <td>also get 4 answer google form</td>\n",
       "    </tr>\n",
       "    <tr>\n",
       "      <th>2</th>\n",
       "      <td>275674</td>\n",
       "      <td>vladimir seminar</td>\n",
       "    </tr>\n",
       "    <tr>\n",
       "      <th>3</th>\n",
       "      <td>275675</td>\n",
       "      <td>couple 111 too</td>\n",
       "    </tr>\n",
       "    <tr>\n",
       "      <th>4</th>\n",
       "      <td>275676</td>\n",
       "      <td>antibuye again zara</td>\n",
       "    </tr>\n",
       "  </tbody>\n",
       "</table>\n",
       "</div>"
      ],
      "text/plain": [
       "       id                        message\n",
       "0  275672    lot people job fair tonight\n",
       "1  275673  also get 4 answer google form\n",
       "2  275674               vladimir seminar\n",
       "3  275675                 couple 111 too\n",
       "4  275676            antibuye again zara"
      ]
     },
     "execution_count": 18,
     "metadata": {},
     "output_type": "execute_result"
    }
   ],
   "source": [
    "clean_test_df.head(5)"
   ]
  },
  {
   "cell_type": "markdown",
   "metadata": {},
   "source": [
    "# Default tokenaizer + basic models"
   ]
  },
  {
   "cell_type": "markdown",
   "metadata": {},
   "source": [
    "## Train Test split "
   ]
  },
  {
   "cell_type": "code",
   "execution_count": 19,
   "metadata": {},
   "outputs": [],
   "source": [
    "from sklearn.model_selection import train_test_split"
   ]
  },
  {
   "cell_type": "code",
   "execution_count": 30,
   "metadata": {},
   "outputs": [
    {
     "name": "stdout",
     "output_type": "stream",
     "text": [
      "(3075,) (769,) (3075,) (769,)\n"
     ]
    }
   ],
   "source": [
    "X_train, X_test, y_train, y_test = train_test_split(clean_train_df['message'].values, \n",
    "                                                  clean_train_df['category'].values, \n",
    "                                                  test_size = 0.2, \n",
    "                                                  stratify = clean_train_df.category,\n",
    "                                                  random_state = 11122022)\n",
    "\n",
    "print(X_train.shape, X_test.shape, y_train.shape, y_test.shape)"
   ]
  },
  {
   "cell_type": "markdown",
   "metadata": {},
   "source": [
    "## Tokenaizer"
   ]
  },
  {
   "cell_type": "code",
   "execution_count": 31,
   "metadata": {},
   "outputs": [],
   "source": [
    "from keras.preprocessing.text import Tokenizer\n",
    "from keras_preprocessing.sequence import pad_sequences"
   ]
  },
  {
   "cell_type": "markdown",
   "metadata": {},
   "source": [
    "Для начала посмотрим сколько у нас существует уникальных слов в датасете"
   ]
  },
  {
   "cell_type": "code",
   "execution_count": 32,
   "metadata": {},
   "outputs": [],
   "source": [
    "def make_tokenizer(clean_train_df, X_train, X_test):\n",
    "    uniq_words = {}\n",
    "\n",
    "    for message in clean_train_df['message'].values:\n",
    "        uniq_words.update(dict.fromkeys(set(message.split())))\n",
    "\n",
    "    print(\"Количество уникальных значений в сообщениях: \", len(uniq_words))\n",
    "\n",
    "    num_words = len(uniq_words)\n",
    "    tokenizer = Tokenizer(num_words, lower=True)\n",
    "    tokenizer.fit_on_texts(clean_train_df.message)\n",
    "    print(len(tokenizer.word_index))\n",
    "\n",
    "    # Make all sentences the same length\n",
    "    max_message_lenght = clean_train_df.message.str.len().max()\n",
    "    print(\"Максимальня длина сообщения: \", max_message_lenght)\n",
    "\n",
    "    X_train_ = tokenizer.texts_to_sequences(X_train)\n",
    "    X_train_pad = pad_sequences(X_train_, maxlen = max_message_lenght, padding='post')\n",
    "    X_test_ = tokenizer.texts_to_sequences(X_test)\n",
    "    X_test_pad = pad_sequences(X_test_, maxlen = max_message_lenght, padding = 'post')\n",
    "    print(X_train_pad.shape, X_test_pad.shape)\n",
    "    \n",
    "    return X_train_pad, X_test_pad"
   ]
  },
  {
   "cell_type": "markdown",
   "metadata": {},
   "source": [
    "В нашем случае вышло примерно 15000 слов(и цифр). В целом, то что тут также есть цифры не критично так как наша цель найти максимальное значение для того, что позже воспользоваться им при использование Tokenizer. И будет не критично если у нас будет больше значений так как все лишние буду занулены.\n",
    "В целом конечно можно посмотреть как часто встречается каждое слово в частности, но в нашем случае это излишне так как никак не может повлиять на конечную точность модели с учётом всех вводных задания"
   ]
  },
  {
   "cell_type": "code",
   "execution_count": 33,
   "metadata": {},
   "outputs": [
    {
     "name": "stdout",
     "output_type": "stream",
     "text": [
      "Количество уникальных значений в сообщениях:  14907\n",
      "14902\n",
      "Максимальня длина сообщения:  1909\n",
      "(3075, 1909) (769, 1909)\n",
      "Wall time: 546 ms\n"
     ]
    }
   ],
   "source": [
    "%%time\n",
    "X_train_pad, X_test_pad = make_tokenizer(clean_train_df,X_train,X_test)"
   ]
  },
  {
   "cell_type": "markdown",
   "metadata": {},
   "source": [
    "## Model"
   ]
  },
  {
   "cell_type": "code",
   "execution_count": 34,
   "metadata": {},
   "outputs": [],
   "source": [
    "from sklearn.linear_model import LogisticRegression\n",
    "from sklearn.metrics import accuracy_score, confusion_matrix, classification_report, f1_score\n",
    "import xgboost as xgb"
   ]
  },
  {
   "cell_type": "markdown",
   "metadata": {},
   "source": [
    "###  LogisticRegression"
   ]
  },
  {
   "cell_type": "code",
   "execution_count": 35,
   "metadata": {},
   "outputs": [],
   "source": [
    "def logreg(X_train_pad, y_train, y_test):\n",
    "    model_logreg = LogisticRegression()\n",
    "    model_logreg.fit(X_train_pad, y_train)\n",
    "    y_pred_logreg = model_logreg.predict(X_test_pad)\n",
    "    acc = np.round(accuracy_score(y_pred_logreg, y_test), 4)\n",
    "    print('accuracy: ', acc)\n",
    "    print(classification_report(y_test, y_pred_logreg))\n",
    "    \n",
    "    return y_pred_logreg, acc"
   ]
  },
  {
   "cell_type": "code",
   "execution_count": 36,
   "metadata": {},
   "outputs": [
    {
     "name": "stdout",
     "output_type": "stream",
     "text": [
      "accuracy:  0.5904\n",
      "              precision    recall  f1-score   support\n",
      "\n",
      "           0       0.66      0.87      0.75       286\n",
      "           1       0.62      0.45      0.52       240\n",
      "           2       0.44      0.40      0.42       243\n",
      "\n",
      "    accuracy                           0.59       769\n",
      "   macro avg       0.58      0.57      0.56       769\n",
      "weighted avg       0.58      0.59      0.57       769\n",
      "\n",
      "Wall time: 1.7 s\n"
     ]
    },
    {
     "name": "stderr",
     "output_type": "stream",
     "text": [
      "c:\\users\\egorm\\appdata\\local\\programs\\python\\python39\\lib\\site-packages\\sklearn\\linear_model\\_logistic.py:444: ConvergenceWarning: lbfgs failed to converge (status=1):\n",
      "STOP: TOTAL NO. of ITERATIONS REACHED LIMIT.\n",
      "\n",
      "Increase the number of iterations (max_iter) or scale the data as shown in:\n",
      "    https://scikit-learn.org/stable/modules/preprocessing.html\n",
      "Please also refer to the documentation for alternative solver options:\n",
      "    https://scikit-learn.org/stable/modules/linear_model.html#logistic-regression\n",
      "  n_iter_i = _check_optimize_result(\n"
     ]
    }
   ],
   "source": [
    "%%time\n",
    "y_pred_logreg, acc_logreg = logreg(X_train_pad, y_train, y_test)"
   ]
  },
  {
   "cell_type": "markdown",
   "metadata": {},
   "source": [
    "### XGBOOST "
   ]
  },
  {
   "cell_type": "code",
   "execution_count": 37,
   "metadata": {},
   "outputs": [],
   "source": [
    "def xgboost(X_train_pad, y_train, y_test):\n",
    "    model_xgb = xgb.XGBClassifier(objective='multi:softmax', \n",
    "                          num_class=3,\n",
    "                          max_depth=6, \n",
    "                          learning_rate=0.1, \n",
    "                          n_estimators=100, \n",
    "                          subsample=0.8)\n",
    "\n",
    "    model_xgb.fit(X_train_pad, y_train)\n",
    "    y_pred_xgb = model_xgb.predict(X_test_pad)\n",
    "    acc = np.round(accuracy_score(y_test, y_pred_xgb), 4)\n",
    "    print ('accuracy: ', acc)\n",
    "    print(classification_report(y_test, y_pred_xgb))\n",
    "    \n",
    "    return y_pred_xgb, acc"
   ]
  },
  {
   "cell_type": "code",
   "execution_count": 38,
   "metadata": {},
   "outputs": [
    {
     "name": "stdout",
     "output_type": "stream",
     "text": [
      "accuracy:  0.6918\n",
      "              precision    recall  f1-score   support\n",
      "\n",
      "           0       0.72      0.85      0.78       286\n",
      "           1       0.73      0.73      0.73       240\n",
      "           2       0.59      0.47      0.52       243\n",
      "\n",
      "    accuracy                           0.69       769\n",
      "   macro avg       0.68      0.68      0.68       769\n",
      "weighted avg       0.68      0.69      0.68       769\n",
      "\n",
      "Wall time: 25.2 s\n"
     ]
    }
   ],
   "source": [
    "%%time\n",
    "y_pred_xgboost, acc_xgboost = xgboost(X_train_pad, y_train, y_test)"
   ]
  },
  {
   "cell_type": "markdown",
   "metadata": {},
   "source": [
    "Как можно заметить результаты(без особых \"настроек\" модели) вышли очень низкими: ~0.59 и ~0.69"
   ]
  },
  {
   "cell_type": "markdown",
   "metadata": {},
   "source": [
    "# TF-IDF + RandomForestClassifier"
   ]
  },
  {
   "cell_type": "code",
   "execution_count": 40,
   "metadata": {},
   "outputs": [],
   "source": [
    "from sklearn.feature_extraction.text import CountVectorizer, TfidfVectorizer\n",
    "from sklearn.ensemble import RandomForestClassifier"
   ]
  },
  {
   "cell_type": "markdown",
   "metadata": {},
   "source": [
    "## Train Test split "
   ]
  },
  {
   "cell_type": "code",
   "execution_count": 41,
   "metadata": {},
   "outputs": [
    {
     "name": "stdout",
     "output_type": "stream",
     "text": [
      "(3075,) (769,) (3075,) (769,)\n"
     ]
    }
   ],
   "source": [
    "X_train, X_test, y_train, y_test = train_test_split(clean_train_df['message'].values.astype('U'), \n",
    "                                                  clean_train_df['category'].values.astype('U'), \n",
    "                                                  test_size = 0.2, \n",
    "                                                  stratify = clean_train_df.category,\n",
    "                                                  random_state = 11122022)\n",
    "\n",
    "print(X_train.shape, X_test.shape, y_train.shape, y_test.shape)"
   ]
  },
  {
   "cell_type": "markdown",
   "metadata": {},
   "source": [
    "## TFIDF "
   ]
  },
  {
   "cell_type": "code",
   "execution_count": 42,
   "metadata": {},
   "outputs": [],
   "source": [
    "tfidf_vectorizer = TfidfVectorizer() \n",
    "tfidf_train_vectors = tfidf_vectorizer.fit_transform(X_train)\n",
    "tfidf_test_vectors = tfidf_vectorizer.transform(X_test)\n",
    "tfidf_target_vectors = tfidf_vectorizer.transform(clean_test_df.message)"
   ]
  },
  {
   "cell_type": "markdown",
   "metadata": {},
   "source": [
    "## RandomForestClassifier"
   ]
  },
  {
   "cell_type": "code",
   "execution_count": 50,
   "metadata": {},
   "outputs": [
    {
     "name": "stdout",
     "output_type": "stream",
     "text": [
      "              precision    recall  f1-score   support\n",
      "\n",
      "           0       0.75      0.92      0.83       286\n",
      "           1       0.98      0.90      0.94       240\n",
      "           2       0.88      0.72      0.79       243\n",
      "\n",
      "    accuracy                           0.85       769\n",
      "   macro avg       0.87      0.85      0.85       769\n",
      "weighted avg       0.86      0.85      0.85       769\n",
      "\n"
     ]
    }
   ],
   "source": [
    "classifier = RandomForestClassifier()\n",
    "\n",
    "classifier.fit(tfidf_train_vectors, y_train)\n",
    "\n",
    "y_pred = classifier.predict(tfidf_test_vectors)\n",
    "print(classification_report(y_test,y_pred))"
   ]
  },
  {
   "cell_type": "markdown",
   "metadata": {},
   "source": [
    "Самая дефолтная верся показала результат в 0.85, что довольно неплохо"
   ]
  },
  {
   "cell_type": "code",
   "execution_count": 92,
   "metadata": {},
   "outputs": [],
   "source": [
    "y_pred_rfc_final = classifier.predict(tfidf_target_vectors)\n",
    "solutions = pd.DataFrame(y_pred_rfc_final)\n",
    "solutions = solutions.reset_index()\n",
    "solutions.set_axis(['id', 'category'], axis=1, inplace=True)\n",
    "solutions['category'] = solutions['category'].astype('int64')\n",
    "solutions.to_csv('solutions.csv', sep =',')"
   ]
  },
  {
   "cell_type": "code",
   "execution_count": null,
   "metadata": {},
   "outputs": [],
   "source": []
  }
 ],
 "metadata": {
  "kernelspec": {
   "display_name": "Python 3",
   "language": "python",
   "name": "python3"
  },
  "language_info": {
   "codemirror_mode": {
    "name": "ipython",
    "version": 3
   },
   "file_extension": ".py",
   "mimetype": "text/x-python",
   "name": "python",
   "nbconvert_exporter": "python",
   "pygments_lexer": "ipython3",
   "version": "3.9.1"
  }
 },
 "nbformat": 4,
 "nbformat_minor": 4
}
